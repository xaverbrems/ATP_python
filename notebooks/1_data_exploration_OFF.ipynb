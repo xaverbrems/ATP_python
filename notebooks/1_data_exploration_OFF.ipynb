{
 "cells": [
  {
   "cell_type": "code",
   "execution_count": 1,
   "id": "08c854f1-8644-4d8a-b664-417f26538f3a",
   "metadata": {
    "tags": []
   },
   "outputs": [],
   "source": [
    "import pandas as pd\n",
    "import numpy as np"
   ]
  },
  {
   "cell_type": "code",
   "execution_count": 2,
   "id": "1b8e82e7-d40c-4967-bd8d-73260c07cd8d",
   "metadata": {
    "tags": []
   },
   "outputs": [],
   "source": [
    "OFF_FILEPATH = \"../data/raw/en.openfoodfacts.org.products.csv.gz\""
   ]
  },
  {
   "cell_type": "code",
   "execution_count": 3,
   "id": "4b32a91f-38cc-4f3b-8e8a-30509699d29b",
   "metadata": {
    "tags": []
   },
   "outputs": [],
   "source": [
    "cols = {'product_name' : 'string',\n",
    "        'main_category_en' : 'category',\n",
    "        'energy-kcal_100g' : 'float32',\n",
    "        'nutriscore_grade' : 'category',\n",
    "        'nutriscore_score' : 'float32',\n",
    "        'ingredients_text' : 'string'}"
   ]
  },
  {
   "cell_type": "code",
   "execution_count": 10,
   "id": "55efb259-3bfd-402b-bcb5-74929c2c39c1",
   "metadata": {},
   "outputs": [
    {
     "name": "stdout",
     "output_type": "stream",
     "text": [
      "CPU times: total: 19.8 s\n",
      "Wall time: 20.2 s\n"
     ]
    }
   ],
   "source": [
    "%%time\n",
    "nrows = 1_000_000\n",
    "chunksize =20_000\n",
    "\n",
    "df = pd.DataFrame() # creates an empty dataframe\n",
    "\n",
    "for chunk_df in pd.read_csv(OFF_FILEPATH, \n",
    "                sep = '\\t', \n",
    "                nrows=nrows, \n",
    "                usecols=cols.keys(),\n",
    "                dtype=cols,\n",
    "                chunksize=chunksize,\n",
    "                on_bad_lines='skip'\n",
    "                ):\n",
    "    df = pd.concat([df, chunk_df.dropna()])\n",
    "    \n"
   ]
  },
  {
   "cell_type": "code",
   "execution_count": 25,
   "id": "11c34faf-9d5c-48a4-be77-690919c0bf5e",
   "metadata": {
    "tags": []
   },
   "outputs": [],
   "source": [
    "# create a program!\n",
    "def calculate_mean_calories(category):\n",
    "    return df['energy-kcal_100g'].loc[df['main_category_en'] == category].mean()"
   ]
  },
  {
   "cell_type": "code",
   "execution_count": 24,
   "id": "a52c5a1f-384c-49c7-8fad-307113eef004",
   "metadata": {
    "tags": []
   },
   "outputs": [
    {
     "data": {
      "text/plain": [
       "327.2857"
      ]
     },
     "execution_count": 24,
     "metadata": {},
     "output_type": "execute_result"
    }
   ],
   "source": [
    "df['energy-kcal_100g'].loc[df['main_category_en'] == 'Cranberries'].mean()"
   ]
  },
  {
   "cell_type": "code",
   "execution_count": null,
   "id": "e1703373-f905-40d1-a342-e6fbf3e24187",
   "metadata": {
    "tags": []
   },
   "outputs": [],
   "source": []
  },
  {
   "cell_type": "code",
   "execution_count": 33,
   "id": "827a259c-4cbb-4dc2-a203-b0c92a1911a1",
   "metadata": {
    "tags": []
   },
   "outputs": [
    {
     "data": {
      "text/plain": [
       "264.1"
      ]
     },
     "execution_count": 33,
     "metadata": {},
     "output_type": "execute_result"
    }
   ],
   "source": [
    "df['energy-kcal_100g'].loc[df['main_category_en'] == 'Baguettes'].mean()"
   ]
  },
  {
   "cell_type": "code",
   "execution_count": null,
   "id": "7e1d1b9f-f559-464d-909c-30b02b5a984b",
   "metadata": {
    "tags": []
   },
   "outputs": [],
   "source": []
  },
  {
   "cell_type": "code",
   "execution_count": 37,
   "id": "61577633-c2cb-4c6d-9a77-3d33a6f061e5",
   "metadata": {
    "tags": []
   },
   "outputs": [
    {
     "data": {
      "text/plain": [
       "(7402,)"
      ]
     },
     "execution_count": 37,
     "metadata": {},
     "output_type": "execute_result"
    }
   ],
   "source": []
  },
  {
   "cell_type": "code",
   "execution_count": 13,
   "id": "e1eaa0da-d6aa-4450-9525-612f91c422e0",
   "metadata": {
    "tags": []
   },
   "outputs": [
    {
     "data": {
      "text/plain": [
       "product_name        string[python]\n",
       "ingredients_text    string[python]\n",
       "nutriscore_score           float32\n",
       "nutriscore_grade          category\n",
       "main_category_en            object\n",
       "energy-kcal_100g           float32\n",
       "dtype: object"
      ]
     },
     "execution_count": 13,
     "metadata": {},
     "output_type": "execute_result"
    }
   ],
   "source": [
    "df.dropna().dtypes"
   ]
  },
  {
   "cell_type": "code",
   "execution_count": 12,
   "id": "579e2b02-0a54-4864-857b-4d710ef861cf",
   "metadata": {
    "tags": []
   },
   "outputs": [
    {
     "data": {
      "text/html": [
       "<div>\n",
       "<style scoped>\n",
       "    .dataframe tbody tr th:only-of-type {\n",
       "        vertical-align: middle;\n",
       "    }\n",
       "\n",
       "    .dataframe tbody tr th {\n",
       "        vertical-align: top;\n",
       "    }\n",
       "\n",
       "    .dataframe thead th {\n",
       "        text-align: right;\n",
       "    }\n",
       "</style>\n",
       "<table border=\"1\" class=\"dataframe\">\n",
       "  <thead>\n",
       "    <tr style=\"text-align: right;\">\n",
       "      <th></th>\n",
       "      <th>product_name</th>\n",
       "      <th>ingredients_text</th>\n",
       "      <th>nutriscore_score</th>\n",
       "      <th>nutriscore_grade</th>\n",
       "      <th>main_category_en</th>\n",
       "      <th>energy-kcal_100g</th>\n",
       "    </tr>\n",
       "  </thead>\n",
       "  <tbody>\n",
       "    <tr>\n",
       "      <th>81</th>\n",
       "      <td>BAguette bressan</td>\n",
       "      <td>Bâguette Bressan Pain baguette 46,2%,' farine ...</td>\n",
       "      <td>-4.0</td>\n",
       "      <td>a</td>\n",
       "      <td>Baguettes</td>\n",
       "      <td>160.0</td>\n",
       "    </tr>\n",
       "    <tr>\n",
       "      <th>199</th>\n",
       "      <td>Pâte a tartiner</td>\n",
       "      <td>50% noisettes locales (82), 29% sucre de canne...</td>\n",
       "      <td>19.0</td>\n",
       "      <td>e</td>\n",
       "      <td>Hazelnut spreads</td>\n",
       "      <td>465.0</td>\n",
       "    </tr>\n",
       "    <tr>\n",
       "      <th>309</th>\n",
       "      <td>Cranberries</td>\n",
       "      <td>Cranberries, sugar, sunflower oil.</td>\n",
       "      <td>8.0</td>\n",
       "      <td>c</td>\n",
       "      <td>Cranberries</td>\n",
       "      <td>300.0</td>\n",
       "    </tr>\n",
       "    <tr>\n",
       "      <th>371</th>\n",
       "      <td>Salade Cesar</td>\n",
       "      <td>INGREDIENTS : LAITUE. VINAIGRETTE (HUILE DE CA...</td>\n",
       "      <td>16.0</td>\n",
       "      <td>d</td>\n",
       "      <td>Leaf vegetables</td>\n",
       "      <td>290.0</td>\n",
       "    </tr>\n",
       "    <tr>\n",
       "      <th>420</th>\n",
       "      <td>Chaussons tressés aux pommes</td>\n",
       "      <td>Pâte (farine, margarines d'huile de palme et d...</td>\n",
       "      <td>9.0</td>\n",
       "      <td>c</td>\n",
       "      <td>Apple turnovers</td>\n",
       "      <td>260.0</td>\n",
       "    </tr>\n",
       "    <tr>\n",
       "      <th>...</th>\n",
       "      <td>...</td>\n",
       "      <td>...</td>\n",
       "      <td>...</td>\n",
       "      <td>...</td>\n",
       "      <td>...</td>\n",
       "      <td>...</td>\n",
       "    </tr>\n",
       "    <tr>\n",
       "      <th>999968</th>\n",
       "      <td>Aceitunas verdes rellenas de pimiento rojo</td>\n",
       "      <td>Aceitunas manzanilla fina verde, agua, sal, pi...</td>\n",
       "      <td>2.0</td>\n",
       "      <td>b</td>\n",
       "      <td>Green olives stuffed of peppers</td>\n",
       "      <td>163.0</td>\n",
       "    </tr>\n",
       "    <tr>\n",
       "      <th>999982</th>\n",
       "      <td>Arándanos rojos</td>\n",
       "      <td>Arándanos, azúcar y aceite de girasol.</td>\n",
       "      <td>9.0</td>\n",
       "      <td>c</td>\n",
       "      <td>Dried cranberries</td>\n",
       "      <td>355.0</td>\n",
       "    </tr>\n",
       "    <tr>\n",
       "      <th>999987</th>\n",
       "      <td>Aceituna gordal deshuesada aliñada</td>\n",
       "      <td>Agua, aceituna gordal, pimiento rojo¹, ajo¹, s...</td>\n",
       "      <td>15.0</td>\n",
       "      <td>d</td>\n",
       "      <td>Marinated olives</td>\n",
       "      <td>190.0</td>\n",
       "    </tr>\n",
       "    <tr>\n",
       "      <th>999990</th>\n",
       "      <td>Aceitunas rellenas de anchoa</td>\n",
       "      <td>Aceitunas verdes manzanilla finas 93%, pasta d...</td>\n",
       "      <td>10.0</td>\n",
       "      <td>c</td>\n",
       "      <td>Stuffed olives</td>\n",
       "      <td>145.0</td>\n",
       "    </tr>\n",
       "    <tr>\n",
       "      <th>999995</th>\n",
       "      <td>Sirope de agave ecológico</td>\n",
       "      <td>Certificados por Fairtrade (Comercio justo) y ...</td>\n",
       "      <td>14.0</td>\n",
       "      <td>d</td>\n",
       "      <td>Agave syrups</td>\n",
       "      <td>336.0</td>\n",
       "    </tr>\n",
       "  </tbody>\n",
       "</table>\n",
       "<p>278221 rows × 6 columns</p>\n",
       "</div>"
      ],
      "text/plain": [
       "                                      product_name  \\\n",
       "81                                BAguette bressan   \n",
       "199                                Pâte a tartiner   \n",
       "309                                    Cranberries   \n",
       "371                                   Salade Cesar   \n",
       "420                   Chaussons tressés aux pommes   \n",
       "...                                            ...   \n",
       "999968  Aceitunas verdes rellenas de pimiento rojo   \n",
       "999982                             Arándanos rojos   \n",
       "999987          Aceituna gordal deshuesada aliñada   \n",
       "999990                Aceitunas rellenas de anchoa   \n",
       "999995                   Sirope de agave ecológico   \n",
       "\n",
       "                                         ingredients_text  nutriscore_score  \\\n",
       "81      Bâguette Bressan Pain baguette 46,2%,' farine ...              -4.0   \n",
       "199     50% noisettes locales (82), 29% sucre de canne...              19.0   \n",
       "309                    Cranberries, sugar, sunflower oil.               8.0   \n",
       "371     INGREDIENTS : LAITUE. VINAIGRETTE (HUILE DE CA...              16.0   \n",
       "420     Pâte (farine, margarines d'huile de palme et d...               9.0   \n",
       "...                                                   ...               ...   \n",
       "999968  Aceitunas manzanilla fina verde, agua, sal, pi...               2.0   \n",
       "999982             Arándanos, azúcar y aceite de girasol.               9.0   \n",
       "999987  Agua, aceituna gordal, pimiento rojo¹, ajo¹, s...              15.0   \n",
       "999990  Aceitunas verdes manzanilla finas 93%, pasta d...              10.0   \n",
       "999995  Certificados por Fairtrade (Comercio justo) y ...              14.0   \n",
       "\n",
       "       nutriscore_grade                 main_category_en  energy-kcal_100g  \n",
       "81                    a                        Baguettes             160.0  \n",
       "199                   e                 Hazelnut spreads             465.0  \n",
       "309                   c                      Cranberries             300.0  \n",
       "371                   d                  Leaf vegetables             290.0  \n",
       "420                   c                  Apple turnovers             260.0  \n",
       "...                 ...                              ...               ...  \n",
       "999968                b  Green olives stuffed of peppers             163.0  \n",
       "999982                c                Dried cranberries             355.0  \n",
       "999987                d                 Marinated olives             190.0  \n",
       "999990                c                   Stuffed olives             145.0  \n",
       "999995                d                     Agave syrups             336.0  \n",
       "\n",
       "[278221 rows x 6 columns]"
      ]
     },
     "execution_count": 12,
     "metadata": {},
     "output_type": "execute_result"
    }
   ],
   "source": [
    "df.dropna()"
   ]
  },
  {
   "cell_type": "code",
   "execution_count": null,
   "id": "574e93d5-f670-4a71-86fa-3e1cfc3f844b",
   "metadata": {
    "tags": []
   },
   "outputs": [],
   "source": [
    "\n"
   ]
  },
  {
   "cell_type": "code",
   "execution_count": null,
   "id": "60fcc5cc-00cf-43ed-b5bb-2b31981358cb",
   "metadata": {
    "tags": []
   },
   "outputs": [],
   "source": []
  },
  {
   "cell_type": "code",
   "execution_count": null,
   "id": "a91eb58b-ad1b-45db-9969-85ddaefb3b37",
   "metadata": {
    "tags": []
   },
   "outputs": [],
   "source": []
  },
  {
   "cell_type": "code",
   "execution_count": null,
   "id": "2bcd93ac-90a4-4a94-a5c4-792276f4c3ff",
   "metadata": {},
   "outputs": [],
   "source": []
  }
 ],
 "metadata": {
  "kernelspec": {
   "display_name": "Python 3 (ipykernel)",
   "language": "python",
   "name": "python3"
  },
  "language_info": {
   "codemirror_mode": {
    "name": "ipython",
    "version": 3
   },
   "file_extension": ".py",
   "mimetype": "text/x-python",
   "name": "python",
   "nbconvert_exporter": "python",
   "pygments_lexer": "ipython3",
   "version": "3.11.5"
  }
 },
 "nbformat": 4,
 "nbformat_minor": 5
}
