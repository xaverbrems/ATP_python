{
 "cells": [
  {
   "cell_type": "code",
   "execution_count": 1,
   "id": "458f544f-be1e-46df-8def-6fa79858ebb9",
   "metadata": {
    "tags": []
   },
   "outputs": [],
   "source": [
    "# General Python\n",
    "import pickle\n",
    "import string\n",
    "import os.path\n",
    "\n",
    "from datetime import datetime\n",
    "\n",
    "# Data Science\n",
    "import pandas as pd\n",
    "import numpy as np\n",
    "\n",
    "# Machine Learning\n",
    "from sklearn.ensemble import RandomForestRegressor\n",
    "from sklearn.model_selection import train_test_split\n",
    "from sklearn.metrics import mean_absolute_error"
   ]
  },
  {
   "cell_type": "code",
   "execution_count": 2,
   "id": "efa2a2b2-873b-4798-abba-65747d68d316",
   "metadata": {
    "tags": []
   },
   "outputs": [],
   "source": [
    "def create_good_char_list(accepted_characters:str='') -> list:\n",
    "    accepted_characters = list(accepted_characters)\n",
    "    accepted_characters.extend(list(string.digits) + list(string.ascii_lowercase))\n",
    "    return accepted_characters"
   ]
  },
  {
   "cell_type": "code",
   "execution_count": 3,
   "id": "82aae1bc-ffe1-4303-a8e6-47103c546cc1",
   "metadata": {
    "tags": []
   },
   "outputs": [],
   "source": [
    "def create_df(off_filepath,nrows,chunk_size,sep, cols):\n",
    "\n",
    "    df = pd.DataFrame()\n",
    "    for chunk in pd.read_csv(off_filepath,\n",
    "                     nrows=nrows,\n",
    "                     usecols=cols.keys(),\n",
    "                     sep=sep,\n",
    "                     dtype=cols,\n",
    "                     chunksize=chunk_size):\n",
    "        df = pd.concat([df, chunk.dropna()])\n",
    "    return df"
   ]
  },
  {
   "cell_type": "code",
   "execution_count": 4,
   "id": "c18e3dd0-f800-49c3-8820-0542fe1bee6d",
   "metadata": {
    "tags": []
   },
   "outputs": [],
   "source": [
    "def train_model(nrows: int=10_000,\n",
    "                chunk_size: int=None,\n",
    "                off_filepath: str='../data/raw/en.openfoodfacts.org.products.csv.gz',\n",
    "                accepted_characters: str=\"-:\",\n",
    "                model_folder: str=\"../models\",\n",
    "                model_filename: str=\"off_rf_model\",\n",
    "                coeffs_in_log_n: int=50,\n",
    "                sep:str ='\\t',\n",
    "                ):\n",
    "    \n",
    "    if chunk_size == None: chunk_size = round(nrows / 20)\n",
    "    \n",
    "    cols = {'product_name' : 'string',\n",
    "            'energy-kcal_100g' : 'float32',\n",
    "            'ingredients_tags': 'string',}\n",
    "    \n",
    "    df = create_df(off_filepath=off_filepath,\n",
    "                   nrows=nrows,\n",
    "                   chunk_size=chunk_size,\n",
    "                   sep=sep,\n",
    "                   cols=cols)\n",
    "    \n",
    "    good_char_list = create_good_char_list(accepted_characters=accepted_characters)\n",
    "    \n",
    "    df['ingredients_tags'] = df['ingredients_tags'].str.split(',').map(\n",
    "            lambda x : [el[3:] for el in x if (el[:2] == 'en')\n",
    "                        and el[3:][0] not in string.digits        \n",
    "                        and all([char in good_char_list for char in el])])\n",
    "    \n",
    "    df = pd.concat([df, pd.get_dummies(df['ingredients_tags'].explode()).groupby(level=0).sum()], axis=1)\n",
    "    y = df['energy-kcal_100g']\n",
    "    X = df[[col for col in df.columns if col not in list(cols.keys())]]\n",
    "    X_train, X_test, y_train, y_test = train_test_split(X, y, random_state=42)\n",
    "   \n",
    "    off_rf_model = RandomForestRegressor(random_state=42)\n",
    "    off_rf_model.fit(X_train, y_train)\n",
    "    \n",
    "    pickle.dump(off_rf_model, open(os.path.join(model_folder, model_filename + \".pickle\"), \"wb\"))\n",
    "    \n",
    "    y_pred = off_rf_model.predict(X_test)\n",
    "    mae = mean_absolute_error(y_test, y_pred)\n",
    "    coeffs_list = pd.DataFrame(zip(X.columns, off_rf_model.feature_importances_)).sort_values(by=[1], ascending=False).head(coeffs_in_log_n).to_dict(orient='tight')['data']\n",
    "    \n",
    "    with open(os.path.join(model_folder, model_filename + \".log\"), 'w') as log_file:\n",
    "        log_file.write(f\"Model name : '{model_filename}'. Trained on the {datetime.now().strftime('%d/%m/%Y %H:%M:%S')} \\n\")\n",
    "        log_file.write(f\"X_train : {len(X_train)}, X_test : {len(X_test)} \\n\")\n",
    "        log_file.write(f\"Number of features: {len(X.columns)} \\n\")\n",
    "        log_file.write(f\"Mean Absolute Error: {mae} \\n\")\n",
    "        for el in coeffs_list:\n",
    "            log_file.write(f\"{el} \\n\")"
   ]
  },
  {
   "cell_type": "code",
   "execution_count": 5,
   "id": "ee3db3e6-1be1-4daf-8852-e992b6f46b39",
   "metadata": {
    "tags": []
   },
   "outputs": [
    {
     "name": "stdout",
     "output_type": "stream",
     "text": [
      "CPU times: total: 34.4 s\n",
      "Wall time: 34.8 s\n"
     ]
    }
   ],
   "source": [
    "%%time\n",
    "train_model()"
   ]
  },
  {
   "cell_type": "code",
   "execution_count": null,
   "id": "d5797889-9d33-4c78-9231-90aa22416af3",
   "metadata": {},
   "outputs": [],
   "source": []
  }
 ],
 "metadata": {
  "kernelspec": {
   "display_name": "Python 3 (ipykernel)",
   "language": "python",
   "name": "python3"
  },
  "language_info": {
   "codemirror_mode": {
    "name": "ipython",
    "version": 3
   },
   "file_extension": ".py",
   "mimetype": "text/x-python",
   "name": "python",
   "nbconvert_exporter": "python",
   "pygments_lexer": "ipython3",
   "version": "3.11.5"
  }
 },
 "nbformat": 4,
 "nbformat_minor": 5
}
